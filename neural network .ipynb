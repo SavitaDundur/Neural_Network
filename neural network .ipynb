{
 "cells": [
  {
   "cell_type": "code",
   "execution_count": 147,
   "id": "9bbe7e30-d7d7-4c3d-b7b7-15d7e993cb59",
   "metadata": {},
   "outputs": [],
   "source": [
    "a = [ 0, 0, 1, 1, 0, 0, \n",
    "      0, 1, 0, 0, 1, 0,\n",
    "      1, 1, 1, 1, 1, 1,\n",
    "      1, 0, 0, 0, 0, 1,\n",
    "      1, 0, 0, 0, 0, 1]\n",
    "\n",
    "b = [ 0, 1, 1, 1, 1, 0, \n",
    "      0, 1, 0, 0, 1, 0,\n",
    "      1, 1, 1, 1, 1, 0,\n",
    "      1, 0, 0, 0, 1, 1,\n",
    "      1, 0, 0, 1, 0, 1]\n",
    "\n",
    "c = [ 0, 1, 1, 1, 0, 0, \n",
    "      0, 1, 0, 0, 1, 0,\n",
    "      1, 1, 1, 1, 1, 1,\n",
    "      1, 1, 0, 0, 0, 1,\n",
    "      1, 1, 0, 0, 0, 1]"
   ]
  },
  {
   "cell_type": "code",
   "execution_count": 148,
   "id": "e7e10006-608d-48b4-aaff-8378d93617f2",
   "metadata": {},
   "outputs": [],
   "source": [
    "y = [[1, 0, 0],\n",
    "     [0, 1, 0],\n",
    "     [0, 0, 1]]"
   ]
  },
  {
   "cell_type": "code",
   "execution_count": 149,
   "id": "b63d4d05-c74b-4e41-b2df-4bfb3fc77568",
   "metadata": {},
   "outputs": [],
   "source": [
    "import numpy as np\n",
    "import matplotlib.pyplot as plt"
   ]
  },
  {
   "cell_type": "code",
   "execution_count": 150,
   "id": "e568577f-e9a6-45ff-8b9d-f18ace68b9b0",
   "metadata": {},
   "outputs": [
    {
     "data": {
      "image/png": "[encoded data removed]",
      "text/plain": [
       "<Figure size 640x480 with 1 Axes>"
      ]
     },
     "metadata": {},
     "output_type": "display_data"
    }
   ],
   "source": [
    "#visualise the data \n",
    "plt.imshow(np.array(a).reshape(5,6))\n",
    "plt.show()"
   ]
  },
  {
   "cell_type": "code",
   "execution_count": 152,
   "id": "69934059-bcba-4689-8a24-0bb114f36ce7",
   "metadata": {},
   "outputs": [
    {
     "name": "stdout",
     "output_type": "stream",
     "text": [
      "[array([[0, 0, 1, 1, 0, 0, 0, 1, 0, 0, 1, 0, 1, 1, 1, 1, 1, 1, 1, 0, 0, 0,\n",
      "        0, 1, 1, 0, 0, 0, 0, 1]]), array([[0, 1, 1, 1, 1, 0, 0, 1, 0, 0, 1, 0, 1, 1, 1, 1, 1, 0, 1, 0, 0, 0,\n",
      "        1, 1, 1, 0, 0, 1, 0, 1]]), array([[0, 0, 1, 1, 0, 0, 0, 1, 0, 0, 1, 0, 1, 1, 1, 1, 1, 1, 1, 0, 0, 0,\n",
      "        0, 1, 1, 0, 0, 0, 0, 1]])] \n",
      "\n",
      " [[1 0 0]\n",
      " [0 1 0]\n",
      " [0 0 1]]\n"
     ]
    }
   ],
   "source": [
    "x = [np.array(a).reshape(1,30), np.array(b).reshape(1,30), np.array(a).reshape(1,30)]\n",
    "y = np.array(y)\n",
    "print(x, \"\\n\\n\",y)"
   ]
  },
  {
   "cell_type": "code",
   "execution_count": 153,
   "id": "28b3b31c-9e88-4386-aa11-424eda590fc9",
   "metadata": {},
   "outputs": [],
   "source": [
    "#activitation function\n",
    "def sigmoid(x):\n",
    "    return (1/(1+np.exp(-x)))"
   ]
  },
  {
   "cell_type": "code",
   "execution_count": 154,
   "id": "90701212-0622-4976-aba7-c15e953cc78f",
   "metadata": {},
   "outputs": [],
   "source": [
    "def f_forward(x, w1, w2):\n",
    "    #hidden layer \n",
    "    z1 = x.dot(w1)\n",
    "    a1 = sigmoid(z1)\n",
    "\n",
    "    #output layer\n",
    "    z2 = a1.dot(w2)\n",
    "    a2 = sigmoid(z2)\n",
    "    return(a2)\n",
    "    "
   ]
  },
  {
   "cell_type": "code",
   "execution_count": 155,
   "id": "e0c65bb8-72fe-4f33-a2d3-8ff5cc9c5411",
   "metadata": {},
   "outputs": [],
   "source": [
    "def generate_wt(x,y):\n",
    "    l = []\n",
    "    for i in range(x*y):\n",
    "        l.append(np.random.randn())\n",
    "    return(np.array(l).reshape(x,y))"
   ]
  },
  {
   "cell_type": "code",
   "execution_count": 156,
   "id": "7f9f6187-1349-4751-8ce9-c431560d4635",
   "metadata": {},
   "outputs": [],
   "source": [
    "def loss(out,Y):\n",
    "    s = (np.square(out-Y))\n",
    "    loss = np.sum(s)/len(y)\n",
    "    return(loss)"
   ]
  },
  {
   "cell_type": "code",
   "execution_count": 171,
   "id": "faeb2737-f6c0-4270-9e07-1728148d83ec",
   "metadata": {},
   "outputs": [],
   "source": [
    "def back_prop(x,y,w1, w2, alpha):\n",
    "    #hidden layer \n",
    "    z1 = x.dot(w1)\n",
    "    a1 = sigmoid(z1)\n",
    "\n",
    "    #output layer\n",
    "    z2 = a1.dot(w2)\n",
    "    a2 = sigmoid(z2)\n",
    "\n",
    "    d2= (a2-y)\n",
    "    d1 = np.multiply(d2.dot(w2.T),np.multiply(a1, 1 -a1))\n",
    "\n",
    "    #gradient\n",
    "    w1_adj = x.transpose().dot(d1)\n",
    "    w2_adj = a1.transpose().dot(d2)\n",
    "\n",
    "    w1 =w1 - (alpha*(w1_adj))\n",
    "    w2 =w2 - (alpha*(w2_adj))\n",
    "\n",
    "    return (w1, w2)"
   ]
  },
  {
   "cell_type": "code",
   "execution_count": 172,
   "id": "b01fb8bf-5ea6-47b3-9464-88ddb562ff78",
   "metadata": {},
   "outputs": [],
   "source": [
    "def train(x, Y, w1, w2, alpha=0.01, epoch=10):\n",
    "    acc = []\n",
    "    loss_values = []\n",
    "    accuracy = []\n",
    "    \n",
    "    for j in range(epoch):\n",
    "        l = []\n",
    "        for i in range(len(x)):\n",
    "            Out = f_forward(x[i], w1, w2)\n",
    "            l.append(loss(Out, Y[i]))\n",
    "            w1, w2 = back_prop(x[i], Y[i], w1, w2, alpha)\n",
    "        epoch = range(len(acc))    \n",
    "         \n",
    "        \n",
    "        print(\"Epochs:\", j + 1, \"acc:\", (1 - (sum(l) / len(x))) * 100)\n",
    "        acc.append((1 - (sum(l) / len(x))) * 100)\n",
    "        loss_values.append(sum(l) / len(x))\n",
    "    return acc, loss_values, w1, w2\n",
    "               "
   ]
  },
  {
   "cell_type": "code",
   "execution_count": 165,
   "id": "c2eeef5a-91f2-4430-8afb-9ae7a3b8f6ca",
   "metadata": {},
   "outputs": [],
   "source": [
    "#epoch = range(len(accuracy)) "
   ]
  },
  {
   "cell_type": "code",
   "execution_count": 173,
   "id": "b2e379ec-e72f-407e-a856-e1bbc18e96c7",
   "metadata": {},
   "outputs": [],
   "source": [
    "def predict(x,w1,w2):\n",
    "    Out = f_forward(x,w1,w2)\n",
    "    maxm=0\n",
    "    k=0\n",
    "    for i in range(len(Out[0])):\n",
    "        if(maxm<Out[0][i]):\n",
    "            maxm = Out[0][i]\n",
    "            k=i\n",
    "    if (k == 0):\n",
    "        print(\"Image is of letter A\")\n",
    "    elif (k == 1):\n",
    "        print(\"Image is of letter B\")\n",
    "    else:\n",
    "        print(\"Image is of letter C\")\n",
    "    plt.imshow(x.reshape(5,6))\n",
    "    plt.show()"
   ]
  },
  {
   "cell_type": "code",
   "execution_count": 174,
   "id": "d3004ae1-d41b-459b-ac52-5d2a68ffd4ee",
   "metadata": {},
   "outputs": [
    {
     "name": "stdout",
     "output_type": "stream",
     "text": [
      "[[ 1.25401415  0.53447311  0.23248477 -1.46892512 -0.15496281]\n",
      " [ 0.45619801  0.23943605 -0.27506151 -0.07358583  0.88174794]\n",
      " [-0.85603813 -0.06014093  1.47725214  1.14712674  0.21923683]\n",
      " [ 0.27736015 -0.5716462   0.35824557  2.12783378 -1.33393017]\n",
      " [-0.51296727 -0.04832283  0.98827922 -0.95258593 -0.02516009]\n",
      " [ 0.05354865 -0.37330514 -0.06915092 -0.16181343 -0.31725286]\n",
      " [-0.62905793 -0.31635963 -0.37915614  0.50735387 -1.08771664]\n",
      " [-0.55263687 -0.13507171 -0.3236251   1.51095516  2.5975152 ]\n",
      " [-0.85010974 -0.30461306 -0.3975814  -0.18046463 -0.44535666]\n",
      " [-0.28864715  1.85550537 -0.10232499  0.03949353  0.22298681]\n",
      " [-0.92812416  0.07459509 -0.72934376 -0.40468395 -0.34928062]\n",
      " [-0.37825927 -2.45557357  0.80090999 -0.62800845 -0.71079104]\n",
      " [-0.16515819  0.69815533 -1.63477011  0.92219394  0.13015274]\n",
      " [ 0.29609857 -0.15044737  0.75618579  1.38797226  0.96813375]\n",
      " [-0.36782131  1.1925074  -0.70711154  2.03877333  2.02651437]\n",
      " [-0.17482453  0.56550253  1.09853236  0.56127611 -0.35686853]\n",
      " [-0.2689376   2.34519529  1.86890147  0.94498747  0.34092981]\n",
      " [ 0.1301278   0.31607837 -0.89146591  1.57683601 -0.52107456]\n",
      " [-0.85892249 -0.19140661 -1.11737715  0.87708832  0.15610131]\n",
      " [-1.86067139  0.78906863 -0.6525455  -0.03842968  1.42463144]\n",
      " [-0.24727388 -0.12349889 -0.85435329 -0.2409581   0.69755347]\n",
      " [ 0.34795036  0.34861267  0.04824212 -0.2093935  -0.64880481]\n",
      " [ 1.66724677 -0.8990024  -0.99663186  0.43177824  1.17951986]\n",
      " [-0.75306627  0.41647871 -0.21823324  0.78065423 -0.27149878]\n",
      " [ 0.38425895 -1.69848656  0.20096869  0.4075871   0.28429568]\n",
      " [ 0.372031   -0.0562054  -0.24849402  2.20685591 -1.36401693]\n",
      " [-0.47480198 -0.18862852 -0.77589114 -0.54645147  2.50464655]\n",
      " [ 1.58221042 -0.60288343  0.66872523  0.07378524 -0.87885722]\n",
      " [ 0.64817028 -0.65088305 -1.00613781  0.58375434 -3.71996939]\n",
      " [ 1.15114812 -0.42687997 -0.42520717  0.89299775 -0.32929757]] \n",
      " [[-0.60771118 -0.08316022  0.6904955 ]\n",
      " [-1.22151416 -0.40648564 -0.50399327]\n",
      " [ 0.11096846  0.05604768  0.83076607]\n",
      " [-0.89924908  1.45052922 -2.85511288]\n",
      " [ 1.94387106 -0.06790506  0.69380997]]\n"
     ]
    }
   ],
   "source": [
    "w1 = generate_wt(30,5)\n",
    "w2 = generate_wt(5,3)\n",
    "print(w1, \"\\n\", w2)"
   ]
  },
  {
   "cell_type": "code",
   "execution_count": 175,
   "id": "6fb059d5-e867-4d12-b876-a30680ba059b",
   "metadata": {
    "scrolled": true
   },
   "outputs": [
    {
     "name": "stdout",
     "output_type": "stream",
     "text": [
      "Epochs: 1 acc: 69.48742727685652\n",
      "Epochs: 2 acc: 69.7538879983409\n",
      "Epochs: 3 acc: 70.01469920353804\n",
      "Epochs: 4 acc: 70.26973178550769\n",
      "Epochs: 5 acc: 70.51887504218517\n",
      "Epochs: 6 acc: 70.76203687031466\n",
      "Epochs: 7 acc: 70.99914377392619\n",
      "Epochs: 8 acc: 71.23014069592064\n",
      "Epochs: 9 acc: 71.45499068430317\n",
      "Epochs: 10 acc: 71.67367440705907\n",
      "Epochs: 11 acc: 71.88618953156288\n",
      "Epochs: 12 acc: 72.09254998574825\n",
      "Epochs: 13 acc: 72.29278511906097\n",
      "Epochs: 14 acc: 72.4869387815003\n",
      "Epochs: 15 acc: 72.67506833888065\n",
      "Epochs: 16 acc: 72.85724364186794\n",
      "Epochs: 17 acc: 73.03354596543487\n",
      "Epochs: 18 acc: 73.20406693419952\n",
      "Epochs: 19 acc: 73.36890744773319\n",
      "Epochs: 20 acc: 73.5281766184074\n",
      "Epochs: 21 acc: 73.68199073275869\n",
      "Epochs: 22 acc: 73.83047224573218\n",
      "Epochs: 23 acc: 73.97374881556975\n",
      "Epochs: 24 acc: 74.11195238557005\n",
      "Epochs: 25 acc: 74.2452183174967\n",
      "Epochs: 26 acc: 74.37368458006956\n",
      "Epochs: 27 acc: 74.49749099475716\n",
      "Epochs: 28 acc: 74.61677854000376\n",
      "Epochs: 29 acc: 74.73168871407867\n",
      "Epochs: 30 acc: 74.84236295592383\n",
      "Epochs: 31 acc: 74.94894212269769\n",
      "Epochs: 32 acc: 75.05156602215877\n",
      "Epochs: 33 acc: 75.15037299759402\n",
      "Epochs: 34 acc: 75.24549956266439\n",
      "Epochs: 35 acc: 75.33708008330035\n",
      "Epochs: 36 acc: 75.42524650362486\n",
      "Epochs: 37 acc: 75.51012811279575\n",
      "Epochs: 38 acc: 75.59185134963626\n",
      "Epochs: 39 acc: 75.6705396419484\n",
      "Epochs: 40 acc: 75.7463132774717\n",
      "Epochs: 41 acc: 75.81928930354972\n",
      "Epochs: 42 acc: 75.88958145269142\n",
      "Epochs: 43 acc: 75.95730009135796\n",
      "Epochs: 44 acc: 76.02255218946073\n",
      "Epochs: 45 acc: 76.08544130821937\n",
      "Epochs: 46 acc: 76.14606760419554\n",
      "Epochs: 47 acc: 76.20452784748409\n",
      "Epochs: 48 acc: 76.26091545220814\n",
      "Epochs: 49 acc: 76.31532051762298\n",
      "Epochs: 50 acc: 76.36782987828752\n",
      "Epochs: 51 acc: 76.41852716190708\n",
      "Epochs: 52 acc: 76.46749285358874\n",
      "Epochs: 53 acc: 76.51480436537906\n",
      "Epochs: 54 acc: 76.5605361100738\n",
      "Epochs: 55 acc: 76.6047595783993\n",
      "Epochs: 56 acc: 76.6475434187678\n",
      "Epochs: 57 acc: 76.68895351890151\n",
      "Epochs: 58 acc: 76.72905308870564\n",
      "Epochs: 59 acc: 76.76790274384743\n",
      "Epochs: 60 acc: 76.80556058956857\n",
      "Epochs: 61 acc: 76.84208230432056\n",
      "Epochs: 62 acc: 76.87752122286994\n",
      "Epochs: 63 acc: 76.91192841857041\n",
      "Epochs: 64 acc: 76.94535278454431\n",
      "Epochs: 65 acc: 76.97784111355651\n",
      "Epochs: 66 acc: 77.00943817639903\n",
      "Epochs: 67 acc: 77.04018679863708\n",
      "Epochs: 68 acc: 77.07012793559458\n",
      "Epochs: 69 acc: 77.09930074548285\n",
      "Epochs: 70 acc: 77.12774266059668\n",
      "Epochs: 71 acc: 77.15548945652243\n",
      "Epochs: 72 acc: 77.18257531931795\n",
      "Epochs: 73 acc: 77.20903291064023\n",
      "Epochs: 74 acc: 77.23489343080773\n",
      "Epochs: 75 acc: 77.26018667979629\n",
      "Epochs: 76 acc: 77.2849411161767\n",
      "Epochs: 77 acc: 77.30918391400934\n",
      "Epochs: 78 acc: 77.33294101771945\n",
      "Epochs: 79 acc: 77.35623719498102\n",
      "Epochs: 80 acc: 77.37909608764329\n",
      "Epochs: 81 acc: 77.401540260737\n",
      "Epochs: 82 acc: 77.42359124960171\n",
      "Epochs: 83 acc: 77.44526960517756\n",
      "Epochs: 84 acc: 77.46659493750715\n",
      "Epochs: 85 acc: 77.4875859574953\n",
      "Epochs: 86 acc: 77.50826051697507\n",
      "Epochs: 87 acc: 77.52863564712965\n",
      "Epochs: 88 acc: 77.54872759532022\n",
      "Epochs: 89 acc: 77.56855186037018\n",
      "Epochs: 90 acc: 77.58812322635579\n",
      "Epochs: 91 acc: 77.60745579495382\n",
      "Epochs: 92 acc: 77.6265630163955\n",
      "Epochs: 93 acc: 77.64545771907638\n",
      "Epochs: 94 acc: 77.66415213787043\n",
      "Epochs: 95 acc: 77.68265794119617\n",
      "Epochs: 96 acc: 77.70098625688175\n",
      "Epochs: 97 acc: 77.71914769687504\n",
      "Epochs: 98 acc: 77.73715238084343\n",
      "Epochs: 99 acc: 77.75500995870738\n",
      "Epochs: 100 acc: 77.77272963215034\n"
     ]
    }
   ],
   "source": [
    "acc, loss_values, w1, w2 = train( x, y, w1, w2, 0.01, 100)\n"
   ]
  },
  {
   "cell_type": "code",
   "execution_count": 180,
   "id": "21492417-7e89-4cfe-b832-481c5f4e72b8",
   "metadata": {},
   "outputs": [
    {
     "data": {
      "image/png": "[encoded data removed]",
      "text/plain": [
       "<Figure size 640x480 with 1 Axes>"
      ]
     },
     "metadata": {},
     "output_type": "display_data"
    }
   ],
   "source": [
    "import matplotlib.pyplot as plt1\n",
    "\n",
    "plt1.plot(acc)\n",
    "plt.ylabel('Accuracy')\n",
    "plt.xlabel(\"Epochs\")\n",
    "plt1.show()"
   ]
  },
  {
   "cell_type": "code",
   "execution_count": 183,
   "id": "394ba04e-a7f9-45e9-a841-2042999bdcde",
   "metadata": {},
   "outputs": [
    {
     "data": {
      "image/png": "[encoded data removed]",
      "text/plain": [
       "<Figure size 640x480 with 1 Axes>"
      ]
     },
     "metadata": {},
     "output_type": "display_data"
    }
   ],
   "source": [
    "plt1.plot(loss_values)\n",
    "plt.ylabel('loss')\n",
    "plt.xlabel(\"Epochs:\")\n",
    "plt1.show()"
   ]
  },
  {
   "cell_type": "code",
   "execution_count": 145,
   "id": "a4aabbd0-2f6e-43de-8f42-20e7c89616c3",
   "metadata": {},
   "outputs": [
    {
     "name": "stdout",
     "output_type": "stream",
     "text": [
      "Image is of letter C\n"
     ]
    },
    {
     "data": {
      "image/png": "[encoded data removed]",
      "text/plain": [
       "<Figure size 640x480 with 1 Axes>"
      ]
     },
     "metadata": {},
     "output_type": "display_data"
    }
   ],
   "source": [
    "predict(x[2], w1, w2)"
   ]
  },
  {
   "cell_type": "code",
   "execution_count": null,
   "id": "3b8d635c-a0f8-4770-98a6-c7465a9b92a6",
   "metadata": {},
   "outputs": [],
   "source": []
  }
 ],
 "metadata": {
  "kernelspec": {
   "display_name": "Python 3 (ipykernel)",
   "language": "python",
   "name": "python3"
  },
  "language_info": {
   "codemirror_mode": {
    "name": "ipython",
    "version": 3
   },
   "file_extension": ".py",
   "mimetype": "text/x-python",
   "name": "python",
   "nbconvert_exporter": "python",
   "pygments_lexer": "ipython3",
   "version": "3.11.7"
  }
 },
 "nbformat": 4,
 "nbformat_minor": 5
}
